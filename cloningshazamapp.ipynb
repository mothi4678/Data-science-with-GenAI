{
  "nbformat": 4,
  "nbformat_minor": 0,
  "metadata": {
    "colab": {
      "provenance": [],
      "authorship_tag": "ABX9TyNZ3/LHdjMoVBldoI9paaqj",
      "include_colab_link": true
    },
    "kernelspec": {
      "name": "python3",
      "display_name": "Python 3"
    },
    "language_info": {
      "name": "python"
    }
  },
  "cells": [
    {
      "cell_type": "markdown",
      "metadata": {
        "id": "view-in-github",
        "colab_type": "text"
      },
      "source": [
        "<a href=\"https://colab.research.google.com/github/mothi4678/Data-science-with-GenAI/blob/main/cloningshazamapp.ipynb\" target=\"_parent\"><img src=\"https://colab.research.google.com/assets/colab-badge.svg\" alt=\"Open In Colab\"/></a>"
      ]
    },
    {
      "cell_type": "code",
      "execution_count": null,
      "metadata": {
        "colab": {
          "base_uri": "https://localhost:8080/",
          "height": 384
        },
        "id": "4AQwWx8rbqW_",
        "outputId": "24bc3f42-e312-42f8-df01-821476287b1d"
      },
      "outputs": [
        {
          "output_type": "error",
          "ename": "ModuleNotFoundError",
          "evalue": "No module named 'faster_whisper'",
          "traceback": [
            "\u001b[0;31m---------------------------------------------------------------------------\u001b[0m",
            "\u001b[0;31mModuleNotFoundError\u001b[0m                       Traceback (most recent call last)",
            "\u001b[0;32m<ipython-input-1-5e260998c0da>\u001b[0m in \u001b[0;36m<cell line: 0>\u001b[0;34m()\u001b[0m\n\u001b[1;32m      8\u001b[0m \u001b[0;32mfrom\u001b[0m \u001b[0msklearn\u001b[0m\u001b[0;34m.\u001b[0m\u001b[0mmetrics\u001b[0m\u001b[0;34m.\u001b[0m\u001b[0mpairwise\u001b[0m \u001b[0;32mimport\u001b[0m \u001b[0mcosine_similarity\u001b[0m\u001b[0;34m\u001b[0m\u001b[0;34m\u001b[0m\u001b[0m\n\u001b[1;32m      9\u001b[0m \u001b[0;31m# import whisper\u001b[0m\u001b[0;34m\u001b[0m\u001b[0;34m\u001b[0m\u001b[0m\n\u001b[0;32m---> 10\u001b[0;31m \u001b[0;32mfrom\u001b[0m \u001b[0mfaster_whisper\u001b[0m \u001b[0;32mimport\u001b[0m \u001b[0mWhisperModel\u001b[0m  \u001b[0;31m# Alternative to whisper\u001b[0m\u001b[0;34m\u001b[0m\u001b[0;34m\u001b[0m\u001b[0m\n\u001b[0m\u001b[1;32m     11\u001b[0m \u001b[0;32mimport\u001b[0m \u001b[0mtorch\u001b[0m\u001b[0;34m\u001b[0m\u001b[0;34m\u001b[0m\u001b[0m\n\u001b[1;32m     12\u001b[0m \u001b[0;31m# Load Database\u001b[0m\u001b[0;34m\u001b[0m\u001b[0;34m\u001b[0m\u001b[0m\n",
            "\u001b[0;31mModuleNotFoundError\u001b[0m: No module named 'faster_whisper'",
            "",
            "\u001b[0;31m---------------------------------------------------------------------------\u001b[0;32m\nNOTE: If your import is failing due to a missing package, you can\nmanually install dependencies using either !pip or !apt.\n\nTo view examples of installing some common dependencies, click the\n\"Open Examples\" button below.\n\u001b[0;31m---------------------------------------------------------------------------\u001b[0m\n"
          ],
          "errorDetails": {
            "actions": [
              {
                "action": "open_url",
                "actionText": "Open Examples",
                "url": "/notebooks/snippets/importing_libraries.ipynb"
              }
            ]
          }
        }
      ],
      "source": [
        "import sqlite3\n",
        "import pandas as pd\n",
        "import numpy as np\n",
        "# import chromadb\n",
        "# import faiss  # Alternative to chromadb\n",
        "from sentence_transformers import SentenceTransformer\n",
        "from sklearn.feature_extraction.text import TfidfVectorizer\n",
        "from sklearn.metrics.pairwise import cosine_similarity\n",
        "# import whisper\n",
        "from faster_whisper import WhisperModel  # Alternative to whisper\n",
        "import torch\n",
        "# Load Database\n",
        "def load_data(db_path): # /content/drive/MyDrive/dataset/eng_subtitles_database.db\n",
        "    conn = sqlite3.connect(\"eng_subtitles_database.db\")\n",
        "    query = \"SELECT num, name, content FROM zipfiles;\"\n",
        "    df = pd.read_sql_query(query, conn)\n",
        "    conn.close()\n",
        "    return df\n",
        "# Preprocess Subtitle Text\n",
        "def preprocess_text(text):\n",
        "    if isinstance(text, bytes):\n",
        "        text = text.decode('latin-1')  # Decode binary content\n",
        "    text = text.lower()\n",
        "    text = text.replace('\\n', ' ').replace('\\r', ' ')\n",
        "    return text\n",
        "# Document Chunking\n",
        "def chunk_text(text, chunk_size=500, overlap=100):\n",
        "    words = text.split()\n",
        "    chunks = []\n",
        "    for i in range(0, len(words), chunk_size - overlap):\n",
        "        chunk = \" \".join(words[i:i + chunk_size])\n",
        "        chunks.append(chunk)\n",
        "    return chunks\n",
        "# Vectorization using TF-IDF\n",
        "def vectorize_tfidf(texts):\n",
        "    vectorizer = TfidfVectorizer()\n",
        "    tfidf_matrix = vectorizer.fit_transform(texts)\n",
        "    return tfidf_matrix, vectorizer\n",
        "# Vectorization using BERT\n",
        "def vectorize_bert(texts):\n",
        "    model = SentenceTransformer(\"all-MiniLM-L6-v2\")\n",
        "    embeddings = model.encode(texts, convert_to_tensor=True)\n",
        "    return embeddings\n",
        "# Store Embeddings in ChromaDB\n",
        "def store_embeddings(texts, db_name=\"chroma_subtitles\"):\n",
        "    chroma_client = chromadb.PersistentClient(path=db_name)\n",
        "    collection = chroma_client.get_or_create_collection(name=\"subtitles\")\n",
        "    for i, text in enumerate(texts):\n",
        "        collection.add(ids=[str(i)], documents=[text])\n",
        "    return collection\n",
        "# Audio to Text Conversion\n",
        "def transcribe_audio(audio_path):\n",
        "    model = whisper.load_model(\"base\")\n",
        "    result = model.transcribe(audio_path)\n",
        "    return result[\"text\"]\n",
        "# Search Query Execution\n",
        "def search_query(query, collection, vectorizer, tfidf_matrix, method=\"tfidf\"):\n",
        "    if method == \"tfidf\":\n",
        "        query_vec = vectorizer.transform([query])\n",
        "        similarity = cosine_similarity(query_vec, tfidf_matrix).flatten()\n",
        "    else:\n",
        "        model = SentenceTransformer(\"all-MiniLM-L6-v2\")\n",
        "        query_embedding = model.encode([query], convert_to_tensor=True)\n",
        "        similarity = cosine_similarity(query_embedding.cpu().numpy(), tfidf_matrix.cpu().numpy()).flatten()\n",
        "    top_indices = np.argsort(similarity)[::-1][:5]\n",
        "    return top_indices, similarity[top_indices]\n",
        "# Load Data\n",
        "df = load_data(\"eng_subtitles_database.db\")\n",
        "df[\"content\"] = df[\"content\"].apply(preprocess_text)\n",
        "df[\"chunks\"] = df[\"content\"].apply(lambda x: chunk_text(x))\n",
        "# Flatten Chunks\n",
        "all_chunks = [chunk for sublist in df[\"chunks\"] for chunk in sublist]\n",
        "# Vectorization\n",
        "tfidf_matrix, vectorizer = vectorize_tfidf(all_chunks)\n",
        "bert_embeddings = vectorize_bert(all_chunks)\n",
        "# Store in ChromaDB\n",
        "collection = store_embeddings(all_chunks)\n",
        "print(\"Setup complete. Ready for search queries!\")\n",
        "# Example of search query\n",
        "query = \"What is the main topic?\"\n",
        "top_indices, similarities = search_query(query, collection, vectorizer, tfidf_matrix, method=\"tfidf\")\n",
        "print(\"Top 5 search results (TF-IDF):\")\n",
        "for i, index in enumerate(top_indices):\n",
        "    print(f\"Result {i+1}: Similarity={similarities[i]}, Chunk: {all_chunks[index][:100]}...\") # print first 100 characters\n",
        "top_indices_bert, similarities_bert = search_query(query, collection, bert_embeddings, tfidf_matrix, method=\"bert\") # changed bert embeddings to tfidf_matrix\n",
        "print(\"\\nTop 5 search results (BERT):\")\n",
        "for i, index in enumerate(top_indices_bert):\n",
        "    print(f\"Result {i+1}: Similarity={similarities_bert[i]}, Chunk: {all_chunks[index][:100]}\")"
      ]
    }
  ]
}